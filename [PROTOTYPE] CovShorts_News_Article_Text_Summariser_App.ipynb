{
  "nbformat": 4,
  "nbformat_minor": 0,
  "metadata": {
    "colab": {
      "name": "CovShorts: News Article Text Summariser App.ipynb",
      "provenance": [],
      "collapsed_sections": []
    },
    "kernelspec": {
      "display_name": "Python 3",
      "name": "python3"
    },
    "language_info": {
      "name": "python"
    }
  },
  "cells": [
    {
      "cell_type": "markdown",
      "metadata": {
        "id": "HB7vdfJdutO5"
      },
      "source": [
        "# Text Summariser Application"
      ]
    },
    {
      "cell_type": "code",
      "metadata": {
        "colab": {
          "base_uri": "https://localhost:8080/",
          "height": 865
        },
        "id": "y8a-kbB_77nt",
        "outputId": "86e382e8-398b-4183-f34d-4721375ae44c"
      },
      "source": [
        "pip install openai"
      ],
      "execution_count": null,
      "outputs": [
        {
          "output_type": "stream",
          "text": [
            "Collecting openai\n",
            "  Downloading openai-0.10.2.tar.gz (156 kB)\n",
            "\u001b[?25l\r\u001b[K     |██                              | 10 kB 28.2 MB/s eta 0:00:01\r\u001b[K     |████▏                           | 20 kB 27.1 MB/s eta 0:00:01\r\u001b[K     |██████▎                         | 30 kB 19.0 MB/s eta 0:00:01\r\u001b[K     |████████▍                       | 40 kB 16.0 MB/s eta 0:00:01\r\u001b[K     |██████████▌                     | 51 kB 8.2 MB/s eta 0:00:01\r\u001b[K     |████████████▌                   | 61 kB 7.8 MB/s eta 0:00:01\r\u001b[K     |██████████████▋                 | 71 kB 8.3 MB/s eta 0:00:01\r\u001b[K     |████████████████▊               | 81 kB 9.3 MB/s eta 0:00:01\r\u001b[K     |██████████████████▉             | 92 kB 9.6 MB/s eta 0:00:01\r\u001b[K     |█████████████████████           | 102 kB 7.7 MB/s eta 0:00:01\r\u001b[K     |███████████████████████         | 112 kB 7.7 MB/s eta 0:00:01\r\u001b[K     |█████████████████████████       | 122 kB 7.7 MB/s eta 0:00:01\r\u001b[K     |███████████████████████████▏    | 133 kB 7.7 MB/s eta 0:00:01\r\u001b[K     |█████████████████████████████▎  | 143 kB 7.7 MB/s eta 0:00:01\r\u001b[K     |███████████████████████████████▍| 153 kB 7.7 MB/s eta 0:00:01\r\u001b[K     |████████████████████████████████| 156 kB 7.7 MB/s \n",
            "\u001b[?25hRequirement already satisfied: requests>=2.20 in /usr/local/lib/python3.7/dist-packages (from openai) (2.23.0)\n",
            "Requirement already satisfied: tqdm in /usr/local/lib/python3.7/dist-packages (from openai) (4.41.1)\n",
            "Collecting pandas>=1.2.3\n",
            "  Downloading pandas-1.3.1-cp37-cp37m-manylinux_2_17_x86_64.manylinux2014_x86_64.whl (11.5 MB)\n",
            "\u001b[K     |████████████████████████████████| 11.5 MB 56.6 MB/s \n",
            "\u001b[?25hCollecting pandas-stubs>=1.1.0.11\n",
            "  Downloading pandas_stubs-1.2.0.1-py3-none-any.whl (157 kB)\n",
            "\u001b[K     |████████████████████████████████| 157 kB 57.9 MB/s \n",
            "\u001b[?25hCollecting openpyxl>=3.0.7\n",
            "  Downloading openpyxl-3.0.7-py2.py3-none-any.whl (243 kB)\n",
            "\u001b[K     |████████████████████████████████| 243 kB 58.4 MB/s \n",
            "\u001b[?25hRequirement already satisfied: et-xmlfile in /usr/local/lib/python3.7/dist-packages (from openpyxl>=3.0.7->openai) (1.1.0)\n",
            "Requirement already satisfied: numpy>=1.17.3 in /usr/local/lib/python3.7/dist-packages (from pandas>=1.2.3->openai) (1.19.5)\n",
            "Requirement already satisfied: python-dateutil>=2.7.3 in /usr/local/lib/python3.7/dist-packages (from pandas>=1.2.3->openai) (2.8.1)\n",
            "Requirement already satisfied: pytz>=2017.3 in /usr/local/lib/python3.7/dist-packages (from pandas>=1.2.3->openai) (2018.9)\n",
            "Requirement already satisfied: typing-extensions>=3.7.4.3 in /usr/local/lib/python3.7/dist-packages (from pandas-stubs>=1.1.0.11->openai) (3.7.4.3)\n",
            "Requirement already satisfied: six>=1.5 in /usr/local/lib/python3.7/dist-packages (from python-dateutil>=2.7.3->pandas>=1.2.3->openai) (1.15.0)\n",
            "Requirement already satisfied: idna<3,>=2.5 in /usr/local/lib/python3.7/dist-packages (from requests>=2.20->openai) (2.10)\n",
            "Requirement already satisfied: certifi>=2017.4.17 in /usr/local/lib/python3.7/dist-packages (from requests>=2.20->openai) (2021.5.30)\n",
            "Requirement already satisfied: chardet<4,>=3.0.2 in /usr/local/lib/python3.7/dist-packages (from requests>=2.20->openai) (3.0.4)\n",
            "Requirement already satisfied: urllib3!=1.25.0,!=1.25.1,<1.26,>=1.21.1 in /usr/local/lib/python3.7/dist-packages (from requests>=2.20->openai) (1.24.3)\n",
            "Building wheels for collected packages: openai\n",
            "  Building wheel for openai (setup.py) ... \u001b[?25l\u001b[?25hdone\n",
            "  Created wheel for openai: filename=openai-0.10.2-py3-none-any.whl size=168357 sha256=987d41e31d0736a85e92f4d51a7b0d4bfb7b826e9f351975f90aaa2a49486d58\n",
            "  Stored in directory: /root/.cache/pip/wheels/5b/b4/76/81cba7151e1a826d8f495fc533a27e7d59637c7ab5fbf1308f\n",
            "Successfully built openai\n",
            "Installing collected packages: pandas-stubs, pandas, openpyxl, openai\n",
            "  Attempting uninstall: pandas\n",
            "    Found existing installation: pandas 1.1.5\n",
            "    Uninstalling pandas-1.1.5:\n",
            "      Successfully uninstalled pandas-1.1.5\n",
            "  Attempting uninstall: openpyxl\n",
            "    Found existing installation: openpyxl 2.5.9\n",
            "    Uninstalling openpyxl-2.5.9:\n",
            "      Successfully uninstalled openpyxl-2.5.9\n",
            "\u001b[31mERROR: pip's dependency resolver does not currently take into account all the packages that are installed. This behaviour is the source of the following dependency conflicts.\n",
            "google-colab 1.0.0 requires pandas~=1.1.0; python_version >= \"3.0\", but you have pandas 1.3.1 which is incompatible.\u001b[0m\n",
            "Successfully installed openai-0.10.2 openpyxl-3.0.7 pandas-1.3.1 pandas-stubs-1.2.0.1\n"
          ],
          "name": "stdout"
        },
        {
          "output_type": "display_data",
          "data": {
            "application/vnd.colab-display-data+json": {
              "pip_warning": {
                "packages": [
                  "pandas"
                ]
              }
            }
          },
          "metadata": {
            "tags": []
          }
        }
      ]
    },
    {
      "cell_type": "code",
      "metadata": {
        "id": "G336VWfB8Ljt"
      },
      "source": [
        "import os\n",
        "import openai"
      ],
      "execution_count": null,
      "outputs": []
    },
    {
      "cell_type": "code",
      "metadata": {
        "id": "6GawFaw2oiKh"
      },
      "source": [
        "previous_prompts = \"I am a highly intelligent question answering bot that can understand, analyze and extract the use cases for a given software case study intelligently. Q: YouAttendance Management System is software developed for daily student attendance in schools, colleges and institutes. It facilitates to access the attendance information of a particular student in a particular class. This system will help in evaluating attendance eligibility criteria of a student. By just a click on the mouse, the system will be able to produce the students' attendance report thus reducing the need for manual labour which is prone to human errors and time consuming. Students can view their attendance. Teachers can view and update students’ attendance. Admin can create and update students’ details. He also creates and updates teachers’ and department’s details. Teacher In Charge can view students' attendance report for all students. He can find minimum and maximum attendance for students. A: Student View her attendance Teacher view students attendance Update students attendance Admin Create and update students’ details Creates and updates teachers’ details Creates and update department’s details Teacher In Charge View students' attendance report for all students. Find minimum and maximum attendance for students. Q: YouLibrary management system is library management software for the purpose of monitoring and controlling the transactions in the library. This system gives us the complete information about the library and the daily transactions done. We need to maintain the records of the new books and also retrieve the details of books which are available in the library. It features a familiar and an attractive user interface which is capable of inserting, searching and reporting. Librarian takes care of basic operations like adding and update members, adding and update books, searching books and issue and return books. He can also purchase the books from different vendors. Also he can generate report to get a list of books that are borrowed by the members. Users can register, login and search for a book and if found can request to librarian. Vendors Provide books to the library and make payment acknowledgement. A: Librarian Issue a book Return a book Update and maintain the records Request the vendor for a book User Register Login Search a book View history Request to Librarian Unregister Books database Update records Show books status Vendors Provide books to the library Payment acknowledgement\""
      ],
      "execution_count": null,
      "outputs": []
    },
    {
      "cell_type": "code",
      "metadata": {
        "id": "uh9Q_I2ao6Jh"
      },
      "source": [
        "new_prompt = \"Q: This is an application that is developed to connect the people keen towards donating stuffs to the orphanages, old-aged homes and other organizations that supply food and shelter to poor people. Different actors of this system include the donor, administrator and the donation receiver. An administrator of the application can check the authorization of both donor and donation receiver. He also maintains donor’s and receiver’s details. He verifies the legal documents of the receiver looking for funds. The organizations asking for funds must be authorized and needs to explain the usage of the donation along with proper proof. Donor require creating an account that would involve the complete details along with an address proof and either a PAN card or an Aadhar card. After login, they donate and track the usage of their funds. A copy of the details of the charity done is send to the donor’s mail. Receiver view the details of the donor.\""
      ],
      "execution_count": null,
      "outputs": []
    },
    {
      "cell_type": "code",
      "metadata": {
        "id": "b-moXoET8O9f"
      },
      "source": [
        "start_sequence = \"\\nA:\"\n",
        "restart_sequence = \"\\n\\nQ: \"\n",
        "\n",
        "def gpt_uc(text):\n",
        "  response = openai.Completion.create(\n",
        "    engine=\"davinci\",\n",
        "    prompt=previous_prompts + text,\n",
        "    temperature=0.7,\n",
        "    max_tokens=100,\n",
        "    top_p=1,\n",
        "    frequency_penalty=0.5,\n",
        "    presence_penalty=0,\n",
        "    stop=[\"\\n\"]\n",
        "  )\n",
        "  return response[\"choices\"][0][\"text\"]"
      ],
      "execution_count": null,
      "outputs": []
    },
    {
      "cell_type": "code",
      "metadata": {
        "id": "SyUHzWNB8cHJ"
      },
      "source": [
        "txt = \"This is an application that is developed to connect the people keen towards donating stuffs to the orphanages, old-aged homes and other organizations that supply food and shelter to poor people. Different actors of this system include the donor, administrator and the donation receiver. An administrator of the application can check the authorization of both donor and donation receiver. He also maintains donor’s and receiver’s details. He verifies the legal documents of the receiver looking for funds. The organizations asking for funds must be authorized and needs to explain the usage of the donation along with proper proof. Donor require creating an account that would involve the complete details along with an address proof and either a PAN card or an Aadhar card. After login, they donate and track the usage of their funds. A copy of the details of the charity done is send to the donor’s mail. Receiver view the details of the donor.\""
      ],
      "execution_count": null,
      "outputs": []
    },
    {
      "cell_type": "code",
      "metadata": {
        "colab": {
          "base_uri": "https://localhost:8080/",
          "height": 337
        },
        "id": "ESFUP_wT8zeQ",
        "outputId": "36d77d11-8089-4020-cb8e-afefa8c07b12"
      },
      "source": [
        "print(gpt_uc('Q: '+txt))"
      ],
      "execution_count": null,
      "outputs": [
        {
          "output_type": "error",
          "ename": "AuthenticationError",
          "evalue": "ignored",
          "traceback": [
            "\u001b[0;31m---------------------------------------------------------------------------\u001b[0m",
            "\u001b[0;31mAuthenticationError\u001b[0m                       Traceback (most recent call last)",
            "\u001b[0;32m<ipython-input-16-c9c3652f6285>\u001b[0m in \u001b[0;36m<module>\u001b[0;34m()\u001b[0m\n\u001b[0;32m----> 1\u001b[0;31m \u001b[0mprint\u001b[0m\u001b[0;34m(\u001b[0m\u001b[0mgpt_uc\u001b[0m\u001b[0;34m(\u001b[0m\u001b[0;34m'Q: '\u001b[0m\u001b[0;34m+\u001b[0m\u001b[0mtxt\u001b[0m\u001b[0;34m)\u001b[0m\u001b[0;34m)\u001b[0m\u001b[0;34m\u001b[0m\u001b[0;34m\u001b[0m\u001b[0m\n\u001b[0m",
            "\u001b[0;32m<ipython-input-14-305db81ee63b>\u001b[0m in \u001b[0;36mgpt_uc\u001b[0;34m(text)\u001b[0m\n\u001b[1;32m     11\u001b[0m     \u001b[0mfrequency_penalty\u001b[0m\u001b[0;34m=\u001b[0m\u001b[0;36m0.5\u001b[0m\u001b[0;34m,\u001b[0m\u001b[0;34m\u001b[0m\u001b[0;34m\u001b[0m\u001b[0m\n\u001b[1;32m     12\u001b[0m     \u001b[0mpresence_penalty\u001b[0m\u001b[0;34m=\u001b[0m\u001b[0;36m0\u001b[0m\u001b[0;34m,\u001b[0m\u001b[0;34m\u001b[0m\u001b[0;34m\u001b[0m\u001b[0m\n\u001b[0;32m---> 13\u001b[0;31m     \u001b[0mstop\u001b[0m\u001b[0;34m=\u001b[0m\u001b[0;34m[\u001b[0m\u001b[0;34m\"\\n\"\u001b[0m\u001b[0;34m]\u001b[0m\u001b[0;34m\u001b[0m\u001b[0;34m\u001b[0m\u001b[0m\n\u001b[0m\u001b[1;32m     14\u001b[0m   )\n\u001b[1;32m     15\u001b[0m   \u001b[0;32mreturn\u001b[0m \u001b[0mresponse\u001b[0m\u001b[0;34m[\u001b[0m\u001b[0;34m\"choices\"\u001b[0m\u001b[0;34m]\u001b[0m\u001b[0;34m[\u001b[0m\u001b[0;36m0\u001b[0m\u001b[0;34m]\u001b[0m\u001b[0;34m[\u001b[0m\u001b[0;34m\"text\"\u001b[0m\u001b[0;34m]\u001b[0m\u001b[0;34m\u001b[0m\u001b[0;34m\u001b[0m\u001b[0m\n",
            "\u001b[0;32m/usr/local/lib/python3.7/dist-packages/openai/api_resources/completion.py\u001b[0m in \u001b[0;36mcreate\u001b[0;34m(cls, *args, **kwargs)\u001b[0m\n\u001b[1;32m     29\u001b[0m         \u001b[0;32mwhile\u001b[0m \u001b[0;32mTrue\u001b[0m\u001b[0;34m:\u001b[0m\u001b[0;34m\u001b[0m\u001b[0;34m\u001b[0m\u001b[0m\n\u001b[1;32m     30\u001b[0m             \u001b[0;32mtry\u001b[0m\u001b[0;34m:\u001b[0m\u001b[0;34m\u001b[0m\u001b[0;34m\u001b[0m\u001b[0m\n\u001b[0;32m---> 31\u001b[0;31m                 \u001b[0;32mreturn\u001b[0m \u001b[0msuper\u001b[0m\u001b[0;34m(\u001b[0m\u001b[0;34m)\u001b[0m\u001b[0;34m.\u001b[0m\u001b[0mcreate\u001b[0m\u001b[0;34m(\u001b[0m\u001b[0;34m*\u001b[0m\u001b[0margs\u001b[0m\u001b[0;34m,\u001b[0m \u001b[0;34m**\u001b[0m\u001b[0mkwargs\u001b[0m\u001b[0;34m)\u001b[0m\u001b[0;34m\u001b[0m\u001b[0;34m\u001b[0m\u001b[0m\n\u001b[0m\u001b[1;32m     32\u001b[0m             \u001b[0;32mexcept\u001b[0m \u001b[0mTryAgain\u001b[0m \u001b[0;32mas\u001b[0m \u001b[0me\u001b[0m\u001b[0;34m:\u001b[0m\u001b[0;34m\u001b[0m\u001b[0;34m\u001b[0m\u001b[0m\n\u001b[1;32m     33\u001b[0m                 \u001b[0;32mif\u001b[0m \u001b[0mtimeout\u001b[0m \u001b[0;32mis\u001b[0m \u001b[0;32mnot\u001b[0m \u001b[0;32mNone\u001b[0m \u001b[0;32mand\u001b[0m \u001b[0mtime\u001b[0m\u001b[0;34m.\u001b[0m\u001b[0mtime\u001b[0m\u001b[0;34m(\u001b[0m\u001b[0;34m)\u001b[0m \u001b[0;34m>\u001b[0m \u001b[0mstart\u001b[0m \u001b[0;34m+\u001b[0m \u001b[0mtimeout\u001b[0m\u001b[0;34m:\u001b[0m\u001b[0;34m\u001b[0m\u001b[0;34m\u001b[0m\u001b[0m\n",
            "\u001b[0;32m/usr/local/lib/python3.7/dist-packages/openai/api_resources/abstract/engine_api_resource.py\u001b[0m in \u001b[0;36mcreate\u001b[0;34m(cls, api_key, api_base, idempotency_key, request_id, api_version, organization, **params)\u001b[0m\n\u001b[1;32m     65\u001b[0m         \u001b[0mheaders\u001b[0m \u001b[0;34m=\u001b[0m \u001b[0mutil\u001b[0m\u001b[0;34m.\u001b[0m\u001b[0mpopulate_headers\u001b[0m\u001b[0;34m(\u001b[0m\u001b[0midempotency_key\u001b[0m\u001b[0;34m,\u001b[0m \u001b[0mrequest_id\u001b[0m\u001b[0;34m)\u001b[0m\u001b[0;34m\u001b[0m\u001b[0;34m\u001b[0m\u001b[0m\n\u001b[1;32m     66\u001b[0m         response, _, api_key = requestor.request(\n\u001b[0;32m---> 67\u001b[0;31m             \u001b[0;34m\"post\"\u001b[0m\u001b[0;34m,\u001b[0m \u001b[0murl\u001b[0m\u001b[0;34m,\u001b[0m \u001b[0mparams\u001b[0m\u001b[0;34m,\u001b[0m \u001b[0mheaders\u001b[0m\u001b[0;34m,\u001b[0m \u001b[0mstream\u001b[0m\u001b[0;34m=\u001b[0m\u001b[0mstream\u001b[0m\u001b[0;34m\u001b[0m\u001b[0;34m\u001b[0m\u001b[0m\n\u001b[0m\u001b[1;32m     68\u001b[0m         )\n\u001b[1;32m     69\u001b[0m \u001b[0;34m\u001b[0m\u001b[0m\n",
            "\u001b[0;32m/usr/local/lib/python3.7/dist-packages/openai/api_requestor.py\u001b[0m in \u001b[0;36mrequest\u001b[0;34m(self, method, url, params, headers, stream)\u001b[0m\n\u001b[1;32m    125\u001b[0m     \u001b[0;32mdef\u001b[0m \u001b[0mrequest\u001b[0m\u001b[0;34m(\u001b[0m\u001b[0mself\u001b[0m\u001b[0;34m,\u001b[0m \u001b[0mmethod\u001b[0m\u001b[0;34m,\u001b[0m \u001b[0murl\u001b[0m\u001b[0;34m,\u001b[0m \u001b[0mparams\u001b[0m\u001b[0;34m=\u001b[0m\u001b[0;32mNone\u001b[0m\u001b[0;34m,\u001b[0m \u001b[0mheaders\u001b[0m\u001b[0;34m=\u001b[0m\u001b[0;32mNone\u001b[0m\u001b[0;34m,\u001b[0m \u001b[0mstream\u001b[0m\u001b[0;34m=\u001b[0m\u001b[0;32mFalse\u001b[0m\u001b[0;34m)\u001b[0m\u001b[0;34m:\u001b[0m\u001b[0;34m\u001b[0m\u001b[0;34m\u001b[0m\u001b[0m\n\u001b[1;32m    126\u001b[0m         rbody, rcode, rheaders, stream, my_api_key = self.request_raw(\n\u001b[0;32m--> 127\u001b[0;31m             \u001b[0mmethod\u001b[0m\u001b[0;34m.\u001b[0m\u001b[0mlower\u001b[0m\u001b[0;34m(\u001b[0m\u001b[0;34m)\u001b[0m\u001b[0;34m,\u001b[0m \u001b[0murl\u001b[0m\u001b[0;34m,\u001b[0m \u001b[0mparams\u001b[0m\u001b[0;34m,\u001b[0m \u001b[0mheaders\u001b[0m\u001b[0;34m,\u001b[0m \u001b[0mstream\u001b[0m\u001b[0;34m=\u001b[0m\u001b[0mstream\u001b[0m\u001b[0;34m\u001b[0m\u001b[0;34m\u001b[0m\u001b[0m\n\u001b[0m\u001b[1;32m    128\u001b[0m         )\n\u001b[1;32m    129\u001b[0m         \u001b[0mresp\u001b[0m \u001b[0;34m=\u001b[0m \u001b[0mself\u001b[0m\u001b[0;34m.\u001b[0m\u001b[0minterpret_response\u001b[0m\u001b[0;34m(\u001b[0m\u001b[0mrbody\u001b[0m\u001b[0;34m,\u001b[0m \u001b[0mrcode\u001b[0m\u001b[0;34m,\u001b[0m \u001b[0mrheaders\u001b[0m\u001b[0;34m,\u001b[0m \u001b[0mstream\u001b[0m\u001b[0;34m=\u001b[0m\u001b[0mstream\u001b[0m\u001b[0;34m)\u001b[0m\u001b[0;34m\u001b[0m\u001b[0;34m\u001b[0m\u001b[0m\n",
            "\u001b[0;32m/usr/local/lib/python3.7/dist-packages/openai/api_requestor.py\u001b[0m in \u001b[0;36mrequest_raw\u001b[0;34m(self, method, url, params, supplied_headers, stream)\u001b[0m\n\u001b[1;32m    248\u001b[0m         \u001b[0;32mif\u001b[0m \u001b[0mmy_api_key\u001b[0m \u001b[0;32mis\u001b[0m \u001b[0;32mNone\u001b[0m\u001b[0;34m:\u001b[0m\u001b[0;34m\u001b[0m\u001b[0;34m\u001b[0m\u001b[0m\n\u001b[1;32m    249\u001b[0m             raise error.AuthenticationError(\n\u001b[0;32m--> 250\u001b[0;31m                 \u001b[0;34m\"No API key provided. (HINT: set your API key in code using \"\u001b[0m\u001b[0;34m\u001b[0m\u001b[0;34m\u001b[0m\u001b[0m\n\u001b[0m\u001b[1;32m    251\u001b[0m                 \u001b[0;34m'\"openai.api_key = <API-KEY>\", or you can set the environment variable OPENAI_API_KEY=<API-KEY>). You can generate API keys '\u001b[0m\u001b[0;34m\u001b[0m\u001b[0;34m\u001b[0m\u001b[0m\n\u001b[1;32m    252\u001b[0m                 \u001b[0;34m\"in the OpenAI web interface. See https://onboard.openai.com \"\u001b[0m\u001b[0;34m\u001b[0m\u001b[0;34m\u001b[0m\u001b[0m\n",
            "\u001b[0;31mAuthenticationError\u001b[0m: No API key provided. (HINT: set your API key in code using \"openai.api_key = <API-KEY>\", or you can set the environment variable OPENAI_API_KEY=<API-KEY>). You can generate API keys in the OpenAI web interface. See https://onboard.openai.com for details, or email support@openai.com if you have any questions."
          ]
        }
      ]
    },
    {
      "cell_type": "code",
      "metadata": {
        "id": "TgQ410kwqzkG"
      },
      "source": [
        "import os\n",
        "os.mkdir('templates')\n",
        "os.mkdir('static')"
      ],
      "execution_count": null,
      "outputs": []
    },
    {
      "cell_type": "markdown",
      "metadata": {
        "id": "J-pTtBjHua_X"
      },
      "source": [
        "flask-ngrok install"
      ]
    },
    {
      "cell_type": "code",
      "metadata": {
        "id": "e2dCtKQZsyZG"
      },
      "source": [
        "!pip install flask-ngrok"
      ],
      "execution_count": null,
      "outputs": []
    },
    {
      "cell_type": "code",
      "metadata": {
        "id": "qyjenam5nbSY"
      },
      "source": [
        "!pip install bert-extractive-summarizer\n",
        "!pip install sentencepiece"
      ],
      "execution_count": null,
      "outputs": []
    },
    {
      "cell_type": "code",
      "metadata": {
        "id": "Li7CnrmpndT9"
      },
      "source": [
        "#!pip install transformers==4.5.0 # common errors : make sure that you are installing the latest version of the Transformers library\n",
        "#!pip install transformers==2.2.0"
      ],
      "execution_count": null,
      "outputs": []
    },
    {
      "cell_type": "code",
      "metadata": {
        "id": "dhrAENh0nhHT"
      },
      "source": [
        "# !pip install spacy\n",
        "!pip install spacy"
      ],
      "execution_count": null,
      "outputs": []
    },
    {
      "cell_type": "markdown",
      "metadata": {
        "id": "uKF8ouKeOKlA"
      },
      "source": [
        "creating index.html file"
      ]
    },
    {
      "cell_type": "code",
      "metadata": {
        "id": "Mx-b7VHxtlKH"
      },
      "source": [
        "indextext='''\n",
        "<!DOCTYPE html>\n",
        "<html>\n",
        "  <head>\n",
        "    <meta charset=\"utf-8\" />\n",
        "    <meta name=\"viewport\" content=\"width=device-width, initial-scale=1\" />\n",
        "    <link\n",
        "      rel=\"stylesheet\"\n",
        "      href=\"https://stackpath.bootstrapcdn.com/bootstrap/4.4.1/css/bootstrap.min.css\"\n",
        "      integrity=\"sha384-Vkoo8x4CGsO3+Hhxv8T/Q5PaXtkKtu6ug5TOeNV6gBiFeWPGFN9MuhOf23Q9Ifjh\"\n",
        "      crossorigin=\"anonymous\"\n",
        "    />\n",
        "    <link\n",
        "      rel=\"stylesheet\"\n",
        "      href=\"https://stackpath.bootstrapcdn.com/font-awesome/4.7.0/css/font-awesome.min.css\"\n",
        "      crossorigin=\"anonymous\"\n",
        "    />\n",
        " \n",
        "    <title>CoVShorts: SARS-CoV-2 News Summarization</title>\n",
        "  </head>\n",
        "  <body>\n",
        "    <h1>{% block title %}Home{% endblock %}</h1>\n",
        "    <nav class=\"navbar navbar-expand-lg navbar-dark bg-dark\">\n",
        "      <button\n",
        "        class=\"navbar-toggler\"\n",
        "        type=\"button\"\n",
        "        data-toggle=\"collapse\"\n",
        "        data-target=\"#navbar\"\n",
        "      >\n",
        "        <span class=\"navbar-toggler-icon\"></span>\n",
        "      </button>\n",
        "      <div class=\"collapse navbar-collapse\" id=\"navbar\">\n",
        "        <div class=\"navbar-nav\">\n",
        "          <a class=\"nav-item nav-link\" id=\"home\" href=\"/\"> Input Article</a>\n",
        "          <a class=\"nav-item nav-link\" id=\"summary\" href=\"/summary\">Summary</a>\n",
        "        </div>\n",
        "      </div>\n",
        "    </nav>\n",
        " \n",
        "    <div class=\"container\">{% block title2 %} {% endblock %} </div>\n",
        " \n",
        "    <div class=\"container\">{% block content %} {% endblock %}</div>\n",
        "    <script\n",
        "      src=\"https://code.jquery.com/jquery-3.2.1.slim.min.js\"\n",
        "      integrity=\"sha384-KJ3o2DKtIkvYIK3UENzmM7KCkRr/rE9/Qpg6aAZGJwFDMVNA/GpGFF93hXpG5KkN\"\n",
        "      crossorigin=\"anonymous\"\n",
        "    ></script>\n",
        "    <script\n",
        "      src=\"https://cdnjs.cloudflare.com/ajax/libs/popper.js/1.12.9/umd/popper.min.js\"\n",
        "      integrity=\"sha384-ApNbgh9B+Y1QKtv3Rn7W3mgPxhU9K/ScQsAP7hUibX39j7fakFPskvXusvfa0b4Q\"\n",
        "      crossorigin=\"anonymous\"\n",
        "    ></script>\n",
        "    <script\n",
        "      src=\"https://maxcdn.bootstrapcdn.com/bootstrap/4.0.0/js/bootstrap.min.js\"\n",
        "      integrity=\"sha384-JZR6Spejh4U02d8jOt6vLEHfe/JQGiRRSQQxSfFWpi1MquVdAyjUar5+76PVCmYl\"\n",
        "      crossorigin=\"anonymous\"\n",
        "    ></script>\n",
        " \n",
        "  </body>\n",
        "</html>\n",
        "'''\n",
        "file1= open(\"templates/index.html\",\"w\")\n",
        "file1.write(indextext)\n",
        "file1.close()"
      ],
      "execution_count": null,
      "outputs": []
    },
    {
      "cell_type": "markdown",
      "metadata": {
        "id": "IAygx_rrPUF3"
      },
      "source": [
        "creating home.html file"
      ]
    },
    {
      "cell_type": "code",
      "metadata": {
        "id": "zjwSZaqjObip"
      },
      "source": [
        " \n",
        "hometext='''\n",
        "{% extends \"index.html\" %} {% block title %}CoVShorts : SARS-CoV-2 News Summarization{% endblock %} {% block content\n",
        "%}\n",
        "<form method=\"POST\">\n",
        "  <h3 align=\"left\">Copy and paste the text from the news article here:</h3><br/>\n",
        "  <div class=\"form-group\">\n",
        "    <input\n",
        "      type=\"text\"\n",
        "      class=\"form-control\"\n",
        "      id=\"newsbody\"\n",
        "      name=\"newsbody\"\n",
        "      placeholder=\"Enter article here...\"\n",
        "    />\n",
        "  </div>\n",
        "   <br />\n",
        "   <input type=\"submit\" name=\"S2\" value=\"Generate Summary\">\n",
        "</form>\n",
        "{% endblock %}\n",
        "'''\n",
        "file1=open(\"templates/home.html\",\"w\")\n",
        "file1.write(hometext)\n",
        "file1.close()"
      ],
      "execution_count": null,
      "outputs": []
    },
    {
      "cell_type": "markdown",
      "metadata": {
        "id": "-8aMqgTiOlrN"
      },
      "source": [
        "creating summary.html"
      ]
    },
    {
      "cell_type": "code",
      "metadata": {
        "id": "Z4ur7Op4Ojb2"
      },
      "source": [
        "summarytext='''\n",
        "{% extends \"index.html\" %} {% block title %}CoVShorts : SARS-CoV-2 News Summarization{% endblock %} {% block content\n",
        "%}\n",
        "<form method=\"POST\">\n",
        "  <h3 align=\"left\">Copy and paste the text from the news article here:</h3><br/>\n",
        "  <div class=\"form-group\">\n",
        "    <input\n",
        "      type=\"text\"\n",
        "      class=\"form-control\"\n",
        "      id=\"newsbody\"\n",
        "      name=\"newsbody\"\n",
        "      placeholder=\"Enter article here...\"\n",
        "    />\n",
        "  </div>\n",
        "   <br />\n",
        "   <input type=\"submit\" name=\"S2\" value=\"Generate Summary\">\n",
        "</form>\n",
        "<br/>\n",
        "<br/>\n",
        "<h3> Here's your summary! </h3>\n",
        "<br />\n",
        "<p>{{finalsummary}}</p>\n",
        " \n",
        "{% endblock %}\n",
        "'''\n",
        "file1=open(\"templates/summary.html\",\"w\")\n",
        "file1.write(summarytext)\n",
        "file1.close()"
      ],
      "execution_count": null,
      "outputs": []
    },
    {
      "cell_type": "code",
      "metadata": {
        "id": "rkhKFB5Yk5O8"
      },
      "source": [
        "import re"
      ],
      "execution_count": null,
      "outputs": []
    },
    {
      "cell_type": "code",
      "metadata": {
        "colab": {
          "base_uri": "https://localhost:8080/"
        },
        "id": "5O4E0jyls-Kg",
        "outputId": "9ad8fb5f-83c5-43ea-ad35-82ef6cddb4ba"
      },
      "source": [
        "from flask import Flask,render_template, request\n",
        "from flask_ngrok import run_with_ngrok\n",
        "\n",
        "app = Flask(__name__)\n",
        "run_with_ngrok(app)\n",
        " \n",
        "class summary_generation:\n",
        "  def __init__(self,body,result):\n",
        "    self.body=body\n",
        "    self.result=result\n",
        "  \n",
        "  def bertSum(self):\n",
        "    from summarizer import Summarizer\n",
        "    bert_model = Summarizer()\n",
        "    return ''.join(bert_model(self.body, min_length=60))\n",
        "  \n",
        "  def summarise(self):\n",
        "    self.result = self.bertSum()\n",
        " \n",
        "SG=summary_generation('','');\n",
        "finalsummary=''\n",
        " \n",
        "@app.route(\"/\",methods=['GET','POST'])\n",
        "def home():\n",
        "  if request.method== 'POST':\n",
        "    SG.body=request.form['newsbody']\n",
        "    SG.summarise()\n",
        "  return render_template('home.html')\n",
        " \n",
        " \n",
        "@app.route(\"/summary\",methods=['GET','POST'])\n",
        "def summary():\n",
        "  return render_template('summary.html',finalsummary=SG.result)\n",
        " \n",
        "app.run()"
      ],
      "execution_count": null,
      "outputs": [
        {
          "output_type": "stream",
          "text": [
            " * Serving Flask app \"__main__\" (lazy loading)\n",
            " * Environment: production\n",
            "\u001b[31m   WARNING: This is a development server. Do not use it in a production deployment.\u001b[0m\n",
            "\u001b[2m   Use a production WSGI server instead.\u001b[0m\n",
            " * Debug mode: off\n"
          ],
          "name": "stdout"
        },
        {
          "output_type": "stream",
          "text": [
            " * Running on http://127.0.0.1:5000/ (Press CTRL+C to quit)\n"
          ],
          "name": "stderr"
        },
        {
          "output_type": "stream",
          "text": [
            " * Running on http://5cd8436eb3f4.ngrok.io\n",
            " * Traffic stats available on http://127.0.0.1:4040\n"
          ],
          "name": "stdout"
        }
      ]
    }
  ]
}